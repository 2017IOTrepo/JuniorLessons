{
 "cells": [
  {
   "cell_type": "code",
   "execution_count": 1,
   "metadata": {},
   "outputs": [],
   "source": [
    "import numpy as np\n",
    "import matplotlib.pyplot as plt\n",
    "import math # 浮点运算库\n",
    "import cmath # 复数运算库\n",
    "\n",
    "%matplotlib inline"
   ]
  },
  {
   "cell_type": "markdown",
   "metadata": {},
   "source": [
    "### 下面这个是测试用的函数"
   ]
  },
  {
   "cell_type": "code",
   "execution_count": 2,
   "metadata": {},
   "outputs": [],
   "source": [
    "def f(x):\n",
    "    return x ** 5 - 3.5 * x ** 4 + 2.75 * x ** 3 + 2.125 * x ** 2 - 3.875 * x + 1.25 "
   ]
  },
  {
   "cell_type": "markdown",
   "metadata": {
    "pycharm": {
     "name": "#%%\n"
    }
   },
   "source": [
    "### 下面这个是绘图\n",
    "\n",
    "老实说这个不用绘图"
   ]
  },
  {
   "cell_type": "code",
   "execution_count": 3,
   "metadata": {},
   "outputs": [],
   "source": [
    "plt.figure\n",
    "plt.show()"
   ]
  },
  {
   "cell_type": "markdown",
   "metadata": {},
   "source": [
    "### 这里才是正儿八经的代码"
   ]
  },
  {
   "cell_type": "code",
   "execution_count": 4,
   "metadata": {},
   "outputs": [],
   "source": [
    "# 此时n = 5\n",
    "n = 5\n",
    "\n",
    "r = s = -1\n",
    "\n",
    "# 这里是a0-6\n",
    "a = [1.25, -3.875, 2.125, 2.75, -3.5, 1]"
   ]
  },
  {
   "cell_type": "code",
   "execution_count": 5,
   "metadata": {},
   "outputs": [
    {
     "data": {
      "text/plain": [
       "[11.375, -10.5, 0.375, 6.25, -4.5, 1]"
      ]
     },
     "execution_count": 5,
     "metadata": {},
     "output_type": "execute_result"
    }
   ],
   "source": [
    "def calcu_b():\n",
    "    # 这里是计算b list的值\n",
    "    # 注意这里倒着算\n",
    "    b_t = [0, 0, 0, 0, 0, 0]\n",
    "    b_t[n] = a[n]\n",
    "    b_t[n - 1] = a[n - 1] + r * b_t[n]\n",
    "    for i in range(n - 2, -1, -1):\n",
    "        b_t[i] = a[i] + (r * b_t[i + 1]) + (s * b_t[i + 2])\n",
    "    return b_t\n",
    "b = calcu_b()\n",
    "b"
   ]
  },
  {
   "cell_type": "code",
   "execution_count": 6,
   "metadata": {},
   "outputs": [
    {
     "data": {
      "text/plain": [
       "[0, -16.375, -4.875, 10.75, -5.5, 1]"
      ]
     },
     "execution_count": 6,
     "metadata": {},
     "output_type": "execute_result"
    }
   ],
   "source": [
    "def calcu_c():   \n",
    "    # 这里是计算c list的值\n",
    "    c_t = [0, 0, 0, 0, 0, 0]\n",
    "    c_t[n] = b[n]\n",
    "    c_t[n - 1] = b[n - 1] + r * c_t[n]\n",
    "    for i in range(n - 2, 0, -1):\n",
    "        c_t[i] = b[i] + r * c_t[i + 1] + s * c_t[i + 2]\n",
    "    return c_t\n",
    "c = calcu_c()\n",
    "c"
   ]
  },
  {
   "cell_type": "code",
   "execution_count": 7,
   "metadata": {},
   "outputs": [
    {
     "data": {
      "text/plain": [
       "(0.3558301399859232, 1.1381090169703605)"
      ]
     },
     "execution_count": 7,
     "metadata": {},
     "output_type": "execute_result"
    }
   ],
   "source": [
    "def calcu_d():\n",
    "    ans = np.linalg.solve(\n",
    "        np.array([[c[2], c[3]], [c[1], c[2]]]),\n",
    "        np.array([-b[1], -b[0]])\n",
    "    )\n",
    "    dr, ds = ans[0], ans[1]\n",
    "    return dr, ds\n",
    "\n",
    "dr, ds = calcu_d()\n",
    "dr, ds"
   ]
  },
  {
   "cell_type": "code",
   "execution_count": 8,
   "metadata": {},
   "outputs": [
    {
     "data": {
      "text/plain": [
       "(-0.6441698600140768, 0.1381090169703605)"
      ]
     },
     "execution_count": 8,
     "metadata": {},
     "output_type": "execute_result"
    }
   ],
   "source": [
    "def calcu_rs():\n",
    "    r_t = r + dr\n",
    "    s_t = s + ds\n",
    "    return r_t, s_t\n",
    "r, s = calcu_rs()\n",
    "r, s"
   ]
  },
  {
   "cell_type": "code",
   "execution_count": 9,
   "metadata": {},
   "outputs": [
    {
     "data": {
      "text/plain": [
       "(0.5523855772732791, 8.24065685164213)"
      ]
     },
     "execution_count": 9,
     "metadata": {},
     "output_type": "execute_result"
    }
   ],
   "source": [
    "def calcu_eps():\n",
    "    eps_ar = math.fabs(dr / r)\n",
    "    eps_as = math.fabs(ds / s)\n",
    "    return eps_ar, eps_as\n",
    "\n",
    "eps_ar, eps_as = calcu_eps()\n",
    "eps_ar, eps_as"
   ]
  },
  {
   "cell_type": "code",
   "execution_count": 10,
   "metadata": {},
   "outputs": [
    {
     "name": "stdout",
     "output_type": "stream",
     "text": [
      "[2.130422990965131, -1.801432340375544, -2.0274232175550537, 5.557658335570184, -4.144169860014077, 1]\n",
      "[0, 4.786620956377997, -8.344722359166367, 8.780271479690924, -4.788339720028153, 1]\n"
     ]
    }
   ],
   "source": [
    "b = calcu_b()\n",
    "c = calcu_c()\n",
    "\n",
    "print(b)\n",
    "print(c)"
   ]
  },
  {
   "cell_type": "code",
   "execution_count": 11,
   "metadata": {},
   "outputs": [
    {
     "data": {
      "text/plain": [
       "(-0.5111130964511351, 0.46973362528145035)"
      ]
     },
     "execution_count": 11,
     "metadata": {},
     "output_type": "execute_result"
    }
   ],
   "source": [
    "dr, ds = calcu_d()\n",
    "r, s = calcu_rs()\n",
    "\n",
    "r, s"
   ]
  },
  {
   "cell_type": "code",
   "execution_count": 12,
   "metadata": {},
   "outputs": [
    {
     "data": {
      "text/plain": [
       "(0.2603274392435032, 0.7059843929895168)"
      ]
     },
     "execution_count": 12,
     "metadata": {},
     "output_type": "execute_result"
    }
   ],
   "source": [
    "eps_ar, eps_as = calcu_eps()\n",
    "eps_ar, eps_as"
   ]
  },
  {
   "cell_type": "markdown",
   "metadata": {},
   "source": [
    "### 这里便是迭代主函数了\n",
    "\n",
    "此时需要将误差迭代到预计值\n",
    "\n",
    "然后我们来看需要的r, s的值"
   ]
  },
  {
   "cell_type": "code",
   "execution_count": 13,
   "metadata": {},
   "outputs": [
    {
     "data": {
      "text/plain": [
       "(0.000627183112168664, 0.0004046605933181927)"
      ]
     },
     "execution_count": 13,
     "metadata": {},
     "output_type": "execute_result"
    }
   ],
   "source": [
    "while eps_ar >= 0.001 or eps_as >= 0.001:\n",
    "    b = calcu_b()\n",
    "    c = calcu_c()\n",
    "    dr, ds = calcu_d()\n",
    "    r, s = calcu_rs()\n",
    "    eps_ar, eps_as = calcu_eps()\n",
    "eps_ar, eps_as"
   ]
  },
  {
   "cell_type": "markdown",
   "metadata": {},
   "source": [
    "### r, s的值\n",
    "\n",
    "**可以看到很完美**"
   ]
  },
  {
   "cell_type": "code",
   "execution_count": 14,
   "metadata": {},
   "outputs": [
    {
     "data": {
      "text/plain": [
       "(-0.5000000652645259, 0.49999998961237035)"
      ]
     },
     "execution_count": 14,
     "metadata": {},
     "output_type": "execute_result"
    }
   ],
   "source": [
    "r, s"
   ]
  },
  {
   "cell_type": "markdown",
   "metadata": {},
   "source": [
    "### 此时我们计算x"
   ]
  },
  {
   "cell_type": "code",
   "execution_count": 15,
   "metadata": {},
   "outputs": [
    {
     "data": {
      "text/plain": [
       "(0.4999999713200723, -1.0000000365845982)"
      ]
     },
     "execution_count": 15,
     "metadata": {},
     "output_type": "execute_result"
    }
   ],
   "source": [
    "x1 = (r + math.sqrt((r ** 2 + 4 * s))) / 2\n",
    "x2 = (r - math.sqrt((r ** 2 + 4 * s))) / 2\n",
    "\n",
    "x1, x2"
   ]
  },
  {
   "attachments": {},
   "cell_type": "markdown",
   "metadata": {},
   "source": [
    "因为我们开始用的是X2-rx-s进行分解的\n",
    "\n",
    "此时算出来了r, s便可以分解出来剩下的函数(并且算出其中两个根\n",
    "\n",
    "此时函数x ** 3 - 4 * x ** 2 + 5.25 * x - 2.5"
   ]
  },
  {
   "cell_type": "code",
   "execution_count": 16,
   "metadata": {},
   "outputs": [
    {
     "data": {
      "text/plain": [
       "[-2.5, 5.25, -4, 1]"
      ]
     },
     "execution_count": 16,
     "metadata": {},
     "output_type": "execute_result"
    }
   ],
   "source": [
    "n = 3\n",
    "\n",
    "a = [-2.5, 5.25, -4, 1]\n",
    "a"
   ]
  },
  {
   "cell_type": "code",
   "execution_count": 17,
   "metadata": {},
   "outputs": [
    {
     "data": {
      "text/plain": [
       "(1.9999999980980534, -1.2499999997245808)"
      ]
     },
     "execution_count": 17,
     "metadata": {},
     "output_type": "execute_result"
    }
   ],
   "source": [
    "eps_ar, eps_as = 1, 1\n",
    "while eps_ar >= 0.001 or eps_as >= 0.001:\n",
    "    b = calcu_b()\n",
    "    c = calcu_c()\n",
    "    dr, ds = calcu_d()\n",
    "    r, s = calcu_rs()\n",
    "    eps_ar, eps_as = calcu_eps()\n",
    "r, s"
   ]
  },
  {
   "cell_type": "code",
   "execution_count": 18,
   "metadata": {},
   "outputs": [
    {
     "data": {
      "text/plain": [
       "((0.9999999990490267+0.5000000016265274j),\n",
       " (0.9999999990490267-0.5000000016265274j))"
      ]
     },
     "execution_count": 18,
     "metadata": {},
     "output_type": "execute_result"
    }
   ],
   "source": [
    "x3 = (r + cmath.sqrt((r ** 2 + 4 * s))) / 2\n",
    "x4 = (r - cmath.sqrt((r ** 2 + 4 * s))) / 2\n",
    "\n",
    "x3, x4"
   ]
  },
  {
   "cell_type": "markdown",
   "metadata": {},
   "source": [
    "### 这里最后分解出来两个根然后剩下的一个一阶根"
   ]
  },
  {
   "cell_type": "code",
   "execution_count": 19,
   "metadata": {},
   "outputs": [
    {
     "data": {
      "text/plain": [
       "2"
      ]
     },
     "execution_count": 19,
     "metadata": {},
     "output_type": "execute_result"
    }
   ],
   "source": [
    "x5 = 2\n",
    "x5"
   ]
  },
  {
   "cell_type": "code",
   "execution_count": 20,
   "metadata": {},
   "outputs": [
    {
     "data": {
      "text/plain": [
       "[0.4999999713200723,\n",
       " -1.0000000365845982,\n",
       " (0.9999999990490267+0.5000000016265274j),\n",
       " (0.9999999990490267-0.5000000016265274j),\n",
       " 2]"
      ]
     },
     "execution_count": 20,
     "metadata": {},
     "output_type": "execute_result"
    }
   ],
   "source": [
    "x_ans = [x1, x2, x3, x4, x5]\n",
    "x_ans"
   ]
  }
 ],
 "metadata": {
  "kernelspec": {
   "display_name": "Python 3",
   "language": "python",
   "name": "python3"
  },
  "language_info": {
   "codemirror_mode": {
    "name": "ipython",
    "version": 3
   },
   "file_extension": ".py",
   "mimetype": "text/x-python",
   "name": "python",
   "nbconvert_exporter": "python",
   "pygments_lexer": "ipython3",
   "version": "3.7.1"
  },
  "pycharm": {
   "stem_cell": {
    "cell_type": "raw",
    "metadata": {
     "collapsed": false
    },
    "source": []
   }
  }
 },
 "nbformat": 4,
 "nbformat_minor": 1
}
