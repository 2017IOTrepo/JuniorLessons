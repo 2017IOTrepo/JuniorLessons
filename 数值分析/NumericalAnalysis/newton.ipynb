{
 "cells": [
  {
   "cell_type": "code",
   "execution_count": 1,
   "metadata": {},
   "outputs": [],
   "source": [
    "import numpy as np\n",
    "import matplotlib.pyplot as plt\n",
    "\n",
    "%matplotlib inline"
   ]
  },
  {
   "cell_type": "markdown",
   "metadata": {},
   "source": [
    "### 首先是初始化一堆奇怪的变量"
   ]
  },
  {
   "cell_type": "code",
   "execution_count": 2,
   "metadata": {},
   "outputs": [],
   "source": [
    "x, y = None, None\n",
    "sx, sy = None, None\n",
    "pre_y = None\n",
    "positions = 3\n",
    "dp = [[0 for i in range(positions)] for j in range(positions)]\n",
    "\n",
    "def f(x):\n",
    "    return np.log2(x)"
   ]
  },
  {
   "cell_type": "markdown",
   "metadata": {},
   "source": [
    "### 然后是初始化一堆奇怪的图象"
   ]
  },
  {
   "cell_type": "code",
   "execution_count": 3,
   "metadata": {},
   "outputs": [
    {
     "data": {
      "text/plain": [
       "<Figure size 576x864 with 0 Axes>"
      ]
     },
     "metadata": {},
     "output_type": "display_data"
    }
   ],
   "source": [
    "#可以显示中文\n",
    "plt.rcParams[\"font.sans-serif\"] = [\"SimHei\"]\n",
    "plt.rcParams['axes.unicode_minus'] = False\n",
    "\n",
    "# 设置风格\n",
    "plt.style.use('ggplot')\n",
    "\n",
    "fig = plt.figure(figsize = (8, 12))\n",
    "\n",
    "def draw_pre():\n",
    "    plt.subplot(2,1,2)\n",
    "    plt.xlabel('X')\n",
    "    plt.ylabel('Y')\n",
    "    plt.title('牛顿插值图像')\n",
    "    plt.scatter(x,y,c='red')\n",
    "    plt.plot(sx,pre_y,c='black')\n",
    "    plt.plot(sx,sy)\n",
    "    plt.legend(['预测','真实'])\n",
    "    plt.show()"
   ]
  },
  {
   "cell_type": "markdown",
   "metadata": {},
   "source": [
    "### 再然后是生成一堆奇怪的数据并绘制函数图像"
   ]
  },
  {
   "cell_type": "code",
   "execution_count": 4,
   "metadata": {},
   "outputs": [
    {
     "data": {
      "text/plain": [
       "([6.840000000000005, 7.000000000000005, 7.700000000000006],\n",
       " [2.7739963251111743, 2.807354922057605, 2.94485844580754])"
      ]
     },
     "execution_count": 4,
     "metadata": {},
     "output_type": "execute_result"
    },
    {
     "data": {
      "image/png": "[encoded data removed]",
      "text/plain": [
       "<Figure size 432x288 with 1 Axes>"
      ]
     },
     "metadata": {},
     "output_type": "display_data"
    }
   ],
   "source": [
    "def generate_data(start,end,select_num):\n",
    "    x = np.arange(start,end,0.01)\n",
    "    y = f(x)\n",
    "    plt.plot(x.reshape(-1), y)\n",
    "    select_num = np.random.choice(np.arange(len(x)),[select_num])\n",
    "    select_num.sort()\n",
    "    return x.reshape(-1), y, [x[i] for i in select_num], [y[i] for i in select_num]\n",
    "\n",
    "x, y, sx, sy = generate_data(1, 10, positions)\n",
    "# 获取拟合点\n",
    "sx, sy"
   ]
  },
  {
   "cell_type": "markdown",
   "metadata": {},
   "source": [
    "### 后来我们需要算系数咯"
   ]
  },
  {
   "cell_type": "code",
   "execution_count": 5,
   "metadata": {},
   "outputs": [
    {
     "data": {
      "text/plain": [
       "[[2.7739963251111743, 2.807354922057605, 2.94485844580754],\n",
       " [0.20849123091519187, 0.1964336053570499, 0],\n",
       " [-0.014020494835048778, 0, 0]]"
      ]
     },
     "execution_count": 5,
     "metadata": {},
     "output_type": "execute_result"
    }
   ],
   "source": [
    "def dp_cof():\n",
    "    cnt = 1\n",
    "    for i in range(positions):\n",
    "        dp[0][i] = f(sx[i])\n",
    "        \n",
    "    while cnt < positions:\n",
    "        for i in range(positions - cnt):\n",
    "            dp[cnt][i] = (dp[cnt - 1][i + 1] - dp[cnt - 1][i]) / (sx[i + cnt] - sx[i])\n",
    "        cnt += 1\n",
    "    pass\n",
    "\n",
    "dp_cof()\n",
    "dp"
   ]
  },
  {
   "cell_type": "markdown",
   "metadata": {},
   "source": [
    "### 此时最上面的一排就是系数"
   ]
  },
  {
   "cell_type": "code",
   "execution_count": 6,
   "metadata": {},
   "outputs": [
    {
     "data": {
      "text/plain": [
       "[2.7739963251111743, 0.20849123091519187, -0.014020494835048778]"
      ]
     },
     "execution_count": 6,
     "metadata": {},
     "output_type": "execute_result"
    }
   ],
   "source": [
    "b = [dp[i][0] for i in range(positions)]\n",
    "b"
   ]
  },
  {
   "cell_type": "code",
   "execution_count": 7,
   "metadata": {},
   "outputs": [],
   "source": [
    "def pre(x):\n",
    "    return b[0] + (x - sx[0]) * b[1] + (x - sx[0]) * (x - sx[0]) * b[2] "
   ]
  },
  {
   "cell_type": "code",
   "execution_count": 8,
   "metadata": {},
   "outputs": [],
   "source": [
    "pre_y = pre(sx)"
   ]
  },
  {
   "cell_type": "code",
   "execution_count": 9,
   "metadata": {},
   "outputs": [
    {
     "data": {
      "image/png": "[encoded data removed]",
      "text/plain": [
       "<Figure size 432x288 with 1 Axes>"
      ]
     },
     "metadata": {},
     "output_type": "display_data"
    }
   ],
   "source": [
    "draw_pre()"
   ]
  },
  {
   "cell_type": "code",
   "execution_count": null,
   "metadata": {},
   "outputs": [],
   "source": []
  }
 ],
 "metadata": {
  "kernelspec": {
   "display_name": "Python 3",
   "language": "python",
   "name": "python3"
  },
  "language_info": {
   "codemirror_mode": {
    "name": "ipython",
    "version": 3
   },
   "file_extension": ".py",
   "mimetype": "text/x-python",
   "name": "python",
   "nbconvert_exporter": "python",
   "pygments_lexer": "ipython3",
   "version": "3.7.1"
  }
 },
 "nbformat": 4,
 "nbformat_minor": 2
}
