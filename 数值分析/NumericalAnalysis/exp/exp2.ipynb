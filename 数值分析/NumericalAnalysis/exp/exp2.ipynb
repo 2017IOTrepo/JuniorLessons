{
 "cells": [
  {
   "cell_type": "code",
   "execution_count": 3,
   "metadata": {},
   "outputs": [],
   "source": [
    "import numpy as np\n",
    "import matplotlib.pyplot as plt\n",
    "\n",
    "%matplotlib inline"
   ]
  },
  {
   "cell_type": "code",
   "execution_count": 22,
   "metadata": {},
   "outputs": [],
   "source": [
    "x = [\n",
    "    [0.9428, 0.3475, -0.8468],\n",
    "    [0.3475, 1.8423, 0.4759],\n",
    "    [-0.8468, 0.4759, 1.2147]\n",
    "]\n",
    "y = [0.4127, 1.7321, -0.8621]"
   ]
  },
  {
   "cell_type": "code",
   "execution_count": 23,
   "metadata": {},
   "outputs": [],
   "source": [
    "n = 3"
   ]
  },
  {
   "cell_type": "code",
   "execution_count": 7,
   "metadata": {},
   "outputs": [],
   "source": [
    "def gaoss_origin(A,b):\n",
    "    n = A.shape[1]  # 01应该相等\n",
    "    k=0\n",
    "    while(k <= n-2):# 每一行减去下一行\n",
    "        i = k + 1\n",
    "        while(i <= n - 1): # 每一行减去第k行\n",
    "            m = A[i][k] / A[k][k]\n",
    "            A[i] = A[i] - m * A[k]\n",
    "            b[i] = b[i] - m * b[k]\n",
    "            i = i + 1\n",
    "        k = k + 1\n",
    "    k = k - 1# k=n-2 倒数第二行\n",
    "    i = i - 1# 此时i=n-1 最后一行\n",
    "    b[i] = b[i] / A[i][i]\n",
    "    while(k >= 0):\n",
    "        b[k] = (b[k] - np.sum(b[k+1:n] * A[k][k+1:n])) / A[k][k]\n",
    "        k = k - 1\n",
    "    \n",
    "    return b\n",
    "ans = gaoss_origin(np.array(x), np.array(y))"
   ]
  },
  {
   "cell_type": "code",
   "execution_count": 8,
   "metadata": {},
   "outputs": [
    {
     "name": "stdout",
     "output_type": "stream",
     "text": [
      "1707004539\n",
      "马骕駸\n",
      "[-14.05184157   7.01437233 -13.2537575 ]\n"
     ]
    }
   ],
   "source": [
    "print(\"1707004539\")\n",
    "print(\"马骕駸\")\n",
    "print(ans)"
   ]
  },
  {
   "cell_type": "code",
   "execution_count": 9,
   "metadata": {},
   "outputs": [],
   "source": [
    "def column_calcu(matrix):\n",
    "    for j in range(len(matrix)): # 主对角先元素：(m,m)\n",
    "        if matrix[j][j] == 0: # 主对角先元素不为0\n",
    "            break\n",
    "\n",
    "        # 交换主元以下元素\n",
    "        max_row = j+1\n",
    "        for i in range(j+1, len(matrix)):\n",
    "            if matrix[max_row][j] < matrix[i][j]:\n",
    "                max_row = i\n",
    "        if max_row != j+1:\n",
    "            for i in range(len(matrix[0])):\n",
    "                matrix[j+1][i], matrix[max_row][i] = matrix[max_row][i], matrix[j+1][i]\n",
    "\n",
    "        # 消去主对角线以下的元素\n",
    "        for r in range(j+1, len(matrix)):\n",
    "            mult = matrix[r][j] / matrix[j][j]\n",
    "            # 对该行做减法\n",
    "            for i in range(len(matrix[0])):\n",
    "                matrix[r][i] = matrix[r][i] - mult * matrix[j][i]\n",
    "    # 回代\n",
    "    x = [i*0+1 for i in list(range(len(matrix[0])-1))]\n",
    "    b = []\n",
    "    for i in range(len(matrix)):\n",
    "        b.append(matrix[i][len(matrix)])\n",
    "    for i in reversed(range(len(matrix))):\n",
    "        for j in range(i+1, len(matrix)):\n",
    "            b[i] = b[i] - matrix[i][j] * x[j]\n",
    "        x[i] = b[i] /matrix[i][i]\n",
    "    return x"
   ]
  },
  {
   "cell_type": "code",
   "execution_count": 25,
   "metadata": {},
   "outputs": [
    {
     "name": "stdout",
     "output_type": "stream",
     "text": [
      "1707004539\n",
      "马骕駸\n"
     ]
    },
    {
     "data": {
      "text/plain": [
       "[-14.051841573984687, 7.0143723289236215, -13.253757500769725]"
      ]
     },
     "execution_count": 25,
     "metadata": {},
     "output_type": "execute_result"
    }
   ],
   "source": [
    "x = column_calcu(np.c_[x, y])\n",
    "print('1707004539')\n",
    "print('马骕駸')\n",
    "x"
   ]
  },
  {
   "cell_type": "code",
   "execution_count": null,
   "metadata": {},
   "outputs": [],
   "source": []
  }
 ],
 "metadata": {
  "kernelspec": {
   "display_name": "Python 3",
   "language": "python",
   "name": "python3"
  },
  "language_info": {
   "codemirror_mode": {
    "name": "ipython",
    "version": 3
   },
   "file_extension": ".py",
   "mimetype": "text/x-python",
   "name": "python",
   "nbconvert_exporter": "python",
   "pygments_lexer": "ipython3",
   "version": "3.7.1"
  }
 },
 "nbformat": 4,
 "nbformat_minor": 2
}
