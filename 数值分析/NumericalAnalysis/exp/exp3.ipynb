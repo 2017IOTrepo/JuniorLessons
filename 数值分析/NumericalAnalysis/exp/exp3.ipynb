{
 "cells": [
  {
   "cell_type": "code",
   "execution_count": 16,
   "metadata": {},
   "outputs": [],
   "source": [
    "import numpy as np\n",
    "import math\n",
    "import matplotlib.pyplot as plt\n",
    "%matplotlib inline"
   ]
  },
  {
   "cell_type": "code",
   "execution_count": 18,
   "metadata": {},
   "outputs": [],
   "source": [
    "year = np.array([2017, 2018])\n",
    "profit = np.array([0, 0])"
   ]
  },
  {
   "cell_type": "code",
   "execution_count": 2,
   "metadata": {},
   "outputs": [],
   "source": [
    "x = [10,11,12,13,14,15,16]\n",
    "y = [70,122,144,152,174,196,202]"
   ]
  },
  {
   "cell_type": "code",
   "execution_count": 3,
   "metadata": {},
   "outputs": [
    {
     "data": {
      "text/plain": [
       "<matplotlib.collections.PathCollection at 0x15bc13aef60>"
      ]
     },
     "execution_count": 3,
     "metadata": {},
     "output_type": "execute_result"
    },
    {
     "data": {
      "image/png": "[encoded data removed]",
      "text/plain": [
       "<Figure size 432x288 with 1 Axes>"
      ]
     },
     "metadata": {
      "needs_background": "light"
     },
     "output_type": "display_data"
    }
   ],
   "source": [
    "plt.scatter(x, y)"
   ]
  },
  {
   "cell_type": "code",
   "execution_count": 6,
   "metadata": {},
   "outputs": [
    {
     "name": "stdout",
     "output_type": "stream",
     "text": [
      "a= -16.029850746268657 ,b= 13.057569296375267\n"
     ]
    }
   ],
   "source": [
    "m = len(x)\n",
    "sum_x2 = sum([n**2 for n in x])\n",
    "sum_y = sum(y)\n",
    "sum_x = sum(x)\n",
    "sum_xy = sum([xi*yi for xi, yi in zip(x, y)])\n",
    "a = (sum_x2 * sum_y - sum_x*sum_xy) / ((m + 1) * sum_x2 - sum_x**2)\n",
    "b = ((m + 1) * sum_xy - sum_x * sum_y) / ((m + 1) * sum_x2 - sum_x**2)\n",
    "print(\"a=\", a,\",b=\", b)"
   ]
  },
  {
   "cell_type": "code",
   "execution_count": 7,
   "metadata": {},
   "outputs": [
    {
     "name": "stdout",
     "output_type": "stream",
     "text": [
      "1707004539\n",
      "马骕駸\n",
      "预测2017年利润: 205.94882729211088 万元\n",
      "预测2018年利润: 219.00639658848613 万元\n"
     ]
    }
   ],
   "source": [
    "y_2017 = 17 * b + a\n",
    "y_2018 = 18 * b + a\n",
    "print('1707004539')\n",
    "print('马骕駸')\n",
    "print(\"预测2017年利润:\", y_2017, \"万元\")\n",
    "print(\"预测2018年利润:\", y_2018, \"万元\")"
   ]
  },
  {
   "cell_type": "code",
   "execution_count": 8,
   "metadata": {},
   "outputs": [
    {
     "data": {
      "text/plain": [
       "[<matplotlib.lines.Line2D at 0x15bc1f7cf28>]"
      ]
     },
     "execution_count": 8,
     "metadata": {},
     "output_type": "execute_result"
    },
    {
     "data": {
      "image/png": "[encoded data removed]",
      "text/plain": [
       "<Figure size 432x288 with 1 Axes>"
      ]
     },
     "metadata": {
      "needs_background": "light"
     },
     "output_type": "display_data"
    }
   ],
   "source": [
    "num = list(range(10,20))\n",
    "y_pred = [n*b + a for n in num]\n",
    "plt.scatter(x, y)\n",
    "plt.scatter([17, 18], [y_2017, y_2018])\n",
    "plt.plot(num, y_pred, 'r')"
   ]
  },
  {
   "cell_type": "code",
   "execution_count": 23,
   "metadata": {},
   "outputs": [],
   "source": [
    "def polyfunction(x, y, n=2):\n",
    "    matrix = []\n",
    "    m = len(x)\n",
    "    for i in range(n+1):\n",
    "        vector = []\n",
    "        for j in range(i, i + n + 1):\n",
    "            if i == 0  and j == 0:\n",
    "                vector.append(m)\n",
    "            else:\n",
    "                sum_xn = sum([xi**j for xi in x])\n",
    "                vector.append(sum_xn)\n",
    "        vector.append(sum([(xi**i)*yi  for xi, yi in zip(x, y)]))\n",
    "        matrix.append(vector)\n",
    "    return matrix\n",
    "\n",
    "def solve(matrix):\n",
    "    for j in range(len(matrix)): # 主对角先元素：(m,m)\n",
    "        if matrix[j][j] == 0: # 主对角先元素不为0\n",
    "            break\n",
    "    # 消去主对角线以下的元素\n",
    "    for r in range(j+1, len(matrix)):\n",
    "        mult = matrix[r][j] / matrix[j][j]\n",
    "        # 对该行做减法\n",
    "        for i in range(len(matrix[0])):\n",
    "            matrix[r][i] = matrix[r][i] - mult * matrix[j][i]\n",
    "    # 回代\n",
    "    x = [i*0+1 for i in list(range(len(matrix[0])-1))]\n",
    "    b = []\n",
    "    for i in range(len(matrix)):\n",
    "        b.append(matrix[i][len(matrix)])\n",
    "    for i in reversed(range(len(matrix))):\n",
    "        for j in range(i+1, len(matrix)):\n",
    "            b[i] = b[i] - matrix[i][j] * x[j]\n",
    "        x[i] = b[i] /matrix[i][i]\n",
    "\n",
    "    for i in range(len(x)):\n",
    "        print('x' + str(i+1)+\"=\", x[i])\n",
    "    return x\n",
    "\n",
    "def predict(a, x_pred):\n",
    "    y_pred = 0\n",
    "    for i in range(len(a)):\n",
    "        y_pred += a[i]*x_pred**i\n",
    "    return y_pred"
   ]
  },
  {
   "cell_type": "code",
   "execution_count": 25,
   "metadata": {},
   "outputs": [
    {
     "data": {
      "text/plain": [
       "[<matplotlib.lines.Line2D at 0x15bc4843a20>]"
      ]
     },
     "execution_count": 25,
     "metadata": {},
     "output_type": "execute_result"
    },
    {
     "data": {
      "image/png": "[encoded data removed]",
      "text/plain": [
       "<Figure size 432x288 with 1 Axes>"
      ]
     },
     "metadata": {
      "needs_background": "light"
     },
     "output_type": "display_data"
    }
   ],
   "source": [
    "plt.scatter(x, y)\n",
    "plt.scatter([17, 18], [y_2017, y_2018])\n",
    "num = list(range(10,20))\n",
    "y_pred = [predict(a, n) for n in num]\n",
    "plt.plot(num, y_pred, 'r')"
   ]
  },
  {
   "cell_type": "code",
   "execution_count": null,
   "metadata": {},
   "outputs": [],
   "source": []
  }
 ],
 "metadata": {
  "kernelspec": {
   "display_name": "Python 3",
   "language": "python",
   "name": "python3"
  },
  "language_info": {
   "codemirror_mode": {
    "name": "ipython",
    "version": 3
   },
   "file_extension": ".py",
   "mimetype": "text/x-python",
   "name": "python",
   "nbconvert_exporter": "python",
   "pygments_lexer": "ipython3",
   "version": "3.7.1"
  }
 },
 "nbformat": 4,
 "nbformat_minor": 2
}
