{
 "cells": [
  {
   "cell_type": "code",
   "execution_count": 1,
   "metadata": {
    "pycharm": {
     "is_executing": false
    }
   },
   "outputs": [],
   "source": [
    "import numpy as np\n",
    "import matplotlib.pyplot as plt\n",
    "\n",
    "%matplotlib inline"
   ]
  },
  {
   "cell_type": "code",
   "execution_count": 2,
   "metadata": {},
   "outputs": [],
   "source": [
    "a = 2.0\n",
    "b = 3.0\n",
    "limit = 1e-10"
   ]
  },
  {
   "cell_type": "code",
   "execution_count": 3,
   "metadata": {
    "pycharm": {
     "is_executing": false,
     "name": "#%%\n"
    }
   },
   "outputs": [],
   "source": [
    "def f(x):\n",
    "    return x ** 3 - x * 2 - 5"
   ]
  },
  {
   "cell_type": "code",
   "execution_count": 4,
   "metadata": {
    "pycharm": {
     "is_executing": false,
     "name": "#%%\n"
    }
   },
   "outputs": [],
   "source": [
    "def calcu_pos_bin(a: float, b: float, limit: float):\n",
    "    times = 1\n",
    "    mid = (a + b) / 2\n",
    "    while f(mid) != 0 and abs(a - b) >= limit:\n",
    "        times += 1\n",
    "        if f(a) * f(mid) > 0:\n",
    "            a = mid\n",
    "        else:\n",
    "            b = mid\n",
    "        mid = (a + b) / 2\n",
    "    return mid, times"
   ]
  },
  {
   "cell_type": "code",
   "execution_count": 5,
   "metadata": {
    "pycharm": {
     "name": "#%%\n"
    }
   },
   "outputs": [],
   "source": [
    "pos_bin, times_bin = calcu_pos_bin(a, b, limit)"
   ]
  },
  {
   "cell_type": "code",
   "execution_count": 6,
   "metadata": {},
   "outputs": [],
   "source": [
    "def df(x):\n",
    "    return 3 * (x ** 2) - 2 * x"
   ]
  },
  {
   "cell_type": "code",
   "execution_count": 7,
   "metadata": {},
   "outputs": [],
   "source": [
    "def calcu_pos_newton(a: float, b: float, limit: float):\n",
    "    times = 1\n",
    "    it = (a + b) / 2\n",
    "    while(abs(f(it)) >= 1e-16): #不等于0 防止超出浮点数精度\n",
    "        x_temp = it - (f(it) / df(it))\n",
    "        if(abs(x_temp - it) < limit):\n",
    "            return x_temp, times\n",
    "        else:\n",
    "            if(x_temp > b or x_temp < a):\n",
    "                print(\"超出范围!\")\n",
    "                return x_temp, times\n",
    "            else:\n",
    "                times = times + 1\n",
    "                it = x_temp\n",
    "    print(\"error\")\n",
    "    return it, times"
   ]
  },
  {
   "cell_type": "code",
   "execution_count": 8,
   "metadata": {},
   "outputs": [],
   "source": [
    "pos_new, times_new = calcu_pos_newton(a, b, limit)"
   ]
  },
  {
   "cell_type": "code",
   "execution_count": 9,
   "metadata": {},
   "outputs": [
    {
     "name": "stdout",
     "output_type": "stream",
     "text": [
      "1707004539\n",
      "马骕駸\n",
      "二分法:\n",
      "最终落点2.0945514815684874\n",
      "迭代次数35\n",
      "牛顿法:\n",
      "最终落点2.0945514815325903\n",
      "迭代次数15\n"
     ]
    }
   ],
   "source": [
    "print(\"1707004539\")\n",
    "print(\"马骕駸\")\n",
    "print(\"二分法:\")\n",
    "print(\"最终落点\" + str(pos_bin))\n",
    "print(\"迭代次数\" + str(times_bin))\n",
    "print(\"牛顿法:\")\n",
    "print(\"最终落点\" + str(pos_new))\n",
    "print(\"迭代次数\" + str(times_new))"
   ]
  },
  {
   "cell_type": "code",
   "execution_count": null,
   "metadata": {},
   "outputs": [],
   "source": []
  }
 ],
 "metadata": {
  "kernelspec": {
   "display_name": "Python 3",
   "language": "python",
   "name": "python3"
  },
  "language_info": {
   "codemirror_mode": {
    "name": "ipython",
    "version": 3
   },
   "file_extension": ".py",
   "mimetype": "text/x-python",
   "name": "python",
   "nbconvert_exporter": "python",
   "pygments_lexer": "ipython3",
   "version": "3.7.1"
  },
  "pycharm": {
   "stem_cell": {
    "cell_type": "raw",
    "metadata": {
     "collapsed": false
    },
    "source": []
   }
  }
 },
 "nbformat": 4,
 "nbformat_minor": 1
}
